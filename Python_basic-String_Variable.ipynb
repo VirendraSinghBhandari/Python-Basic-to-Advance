{
 "cells": [
  {
   "cell_type": "markdown",
   "id": "8d7a7f29",
   "metadata": {},
   "source": [
    "#string varibalbe\n",
    "String is a kind of data type which store only charaters value. In python string value should be in \"\""
   ]
  },
  {
   "cell_type": "code",
   "execution_count": 1,
   "id": "ba474dcc",
   "metadata": {},
   "outputs": [
    {
     "data": {
      "text/plain": [
       "'Viru'"
      ]
     },
     "execution_count": 1,
     "metadata": {},
     "output_type": "execute_result"
    }
   ],
   "source": [
    "s = \"Viru\"\n",
    "s"
   ]
  },
  {
   "cell_type": "code",
   "execution_count": 2,
   "id": "3fcb054a",
   "metadata": {},
   "outputs": [
    {
     "data": {
      "text/plain": [
       "str"
      ]
     },
     "execution_count": 2,
     "metadata": {},
     "output_type": "execute_result"
    }
   ],
   "source": [
    "type(s)"
   ]
  },
  {
   "cell_type": "code",
   "execution_count": 3,
   "id": "316b700f",
   "metadata": {},
   "outputs": [
    {
     "data": {
      "text/plain": [
       "'r'"
      ]
     },
     "execution_count": 3,
     "metadata": {},
     "output_type": "execute_result"
    }
   ],
   "source": [
    "#extract character from string\n",
    "s[2]"
   ]
  },
  {
   "cell_type": "code",
   "execution_count": 4,
   "id": "87911f04",
   "metadata": {},
   "outputs": [
    {
     "data": {
      "text/plain": [
       "'Viru'"
      ]
     },
     "execution_count": 4,
     "metadata": {},
     "output_type": "execute_result"
    }
   ],
   "source": [
    "s[0:]"
   ]
  },
  {
   "cell_type": "code",
   "execution_count": 5,
   "id": "ff14c23b",
   "metadata": {},
   "outputs": [
    {
     "data": {
      "text/plain": [
       "'u'"
      ]
     },
     "execution_count": 5,
     "metadata": {},
     "output_type": "execute_result"
    }
   ],
   "source": [
    "s[-1]"
   ]
  },
  {
   "cell_type": "code",
   "execution_count": 9,
   "id": "841cef53",
   "metadata": {},
   "outputs": [
    {
     "data": {
      "text/plain": [
       "'Viru'"
      ]
     },
     "execution_count": 9,
     "metadata": {},
     "output_type": "execute_result"
    }
   ],
   "source": [
    "#Extract from negetive side\n",
    "s[-5:]"
   ]
  },
  {
   "cell_type": "code",
   "execution_count": 12,
   "id": "ca72cfdc",
   "metadata": {},
   "outputs": [],
   "source": [
    "S1= \"This is my very first programming class's\""
   ]
  },
  {
   "cell_type": "code",
   "execution_count": 13,
   "id": "4f20aa92",
   "metadata": {},
   "outputs": [
    {
     "data": {
      "text/plain": [
       "\"This is my very first programming class's\""
      ]
     },
     "execution_count": 13,
     "metadata": {},
     "output_type": "execute_result"
    }
   ],
   "source": [
    "S1"
   ]
  },
  {
   "cell_type": "code",
   "execution_count": 14,
   "id": "4a7cc050",
   "metadata": {},
   "outputs": [
    {
     "data": {
      "text/plain": [
       "'m'"
      ]
     },
     "execution_count": 14,
     "metadata": {},
     "output_type": "execute_result"
    }
   ],
   "source": [
    "S1[8]"
   ]
  },
  {
   "cell_type": "code",
   "execution_count": 16,
   "id": "9f8e18fe",
   "metadata": {},
   "outputs": [
    {
     "data": {
      "text/plain": [
       "'his '"
      ]
     },
     "execution_count": 16,
     "metadata": {},
     "output_type": "execute_result"
    }
   ],
   "source": [
    "S1[1:5]"
   ]
  },
  {
   "cell_type": "code",
   "execution_count": 17,
   "id": "efc9cf38",
   "metadata": {},
   "outputs": [
    {
     "data": {
      "text/plain": [
       "'s my very first programm'"
      ]
     },
     "execution_count": 17,
     "metadata": {},
     "output_type": "execute_result"
    }
   ],
   "source": [
    "S1[6:30]"
   ]
  },
  {
   "cell_type": "code",
   "execution_count": 18,
   "id": "60c46acf",
   "metadata": {},
   "outputs": [],
   "source": [
    "S2 = \"Virendra\""
   ]
  },
  {
   "cell_type": "code",
   "execution_count": 19,
   "id": "719f4d4e",
   "metadata": {},
   "outputs": [
    {
     "data": {
      "text/plain": [
       "''"
      ]
     },
     "execution_count": 19,
     "metadata": {},
     "output_type": "execute_result"
    }
   ],
   "source": [
    "S2[0:8:-1]"
   ]
  },
  {
   "cell_type": "code",
   "execution_count": 20,
   "id": "4d082971",
   "metadata": {},
   "outputs": [
    {
     "data": {
      "text/plain": [
       "'ardneri'"
      ]
     },
     "execution_count": 20,
     "metadata": {},
     "output_type": "execute_result"
    }
   ],
   "source": [
    "S2[8:0:-1]"
   ]
  },
  {
   "cell_type": "code",
   "execution_count": 22,
   "id": "2a5e4dae",
   "metadata": {},
   "outputs": [
    {
     "data": {
      "text/plain": [
       "'ardneriV'"
      ]
     },
     "execution_count": 22,
     "metadata": {},
     "output_type": "execute_result"
    }
   ],
   "source": [
    "S2[8::-1]"
   ]
  },
  {
   "cell_type": "code",
   "execution_count": 23,
   "id": "79c6d6fb",
   "metadata": {},
   "outputs": [
    {
     "data": {
      "text/plain": [
       "'Viren'"
      ]
     },
     "execution_count": 23,
     "metadata": {},
     "output_type": "execute_result"
    }
   ],
   "source": [
    "S2[:-3]"
   ]
  },
  {
   "cell_type": "code",
   "execution_count": 24,
   "id": "9b951c74",
   "metadata": {},
   "outputs": [
    {
     "data": {
      "text/plain": [
       "'ra'"
      ]
     },
     "execution_count": 24,
     "metadata": {},
     "output_type": "execute_result"
    }
   ],
   "source": [
    "S2[-2:]"
   ]
  },
  {
   "cell_type": "code",
   "execution_count": 25,
   "id": "d2aab1b1",
   "metadata": {},
   "outputs": [
    {
     "data": {
      "text/plain": [
       "'Virendra'"
      ]
     },
     "execution_count": 25,
     "metadata": {},
     "output_type": "execute_result"
    }
   ],
   "source": [
    "S2[::1]"
   ]
  },
  {
   "cell_type": "code",
   "execution_count": 26,
   "id": "6b6f54da",
   "metadata": {},
   "outputs": [
    {
     "data": {
      "text/plain": [
       "'ardneriV'"
      ]
     },
     "execution_count": 26,
     "metadata": {},
     "output_type": "execute_result"
    }
   ],
   "source": [
    "S2[::-1]"
   ]
  },
  {
   "cell_type": "code",
   "execution_count": 27,
   "id": "c89d21ff",
   "metadata": {},
   "outputs": [
    {
     "data": {
      "text/plain": [
       "''"
      ]
     },
     "execution_count": 27,
     "metadata": {},
     "output_type": "execute_result"
    }
   ],
   "source": [
    "S2[-2:-7:1]"
   ]
  },
  {
   "cell_type": "code",
   "execution_count": 29,
   "id": "67c82b54",
   "metadata": {},
   "outputs": [
    {
     "data": {
      "text/plain": [
       "''"
      ]
     },
     "execution_count": 29,
     "metadata": {},
     "output_type": "execute_result"
    }
   ],
   "source": [
    "#not provided jump size \n",
    "S2[5:2]"
   ]
  },
  {
   "cell_type": "code",
   "execution_count": 30,
   "id": "7d206714",
   "metadata": {},
   "outputs": [
    {
     "data": {
      "text/plain": [
       "'irendr'"
      ]
     },
     "execution_count": 30,
     "metadata": {},
     "output_type": "execute_result"
    }
   ],
   "source": [
    "S2[-7:-1:1]"
   ]
  },
  {
   "cell_type": "code",
   "execution_count": 31,
   "id": "4d7181b2",
   "metadata": {},
   "outputs": [
    {
     "data": {
      "text/plain": [
       "''"
      ]
     },
     "execution_count": 31,
     "metadata": {},
     "output_type": "execute_result"
    }
   ],
   "source": [
    "S2[-7:-1:-1]"
   ]
  },
  {
   "cell_type": "code",
   "execution_count": 32,
   "id": "a8929c7d",
   "metadata": {},
   "outputs": [
    {
     "data": {
      "text/plain": [
       "''"
      ]
     },
     "execution_count": 32,
     "metadata": {},
     "output_type": "execute_result"
    }
   ],
   "source": [
    "S2[-7:0:1]"
   ]
  },
  {
   "cell_type": "code",
   "execution_count": 33,
   "id": "a1ef2934",
   "metadata": {},
   "outputs": [],
   "source": [
    "#summation and concatination"
   ]
  },
  {
   "cell_type": "code",
   "execution_count": 36,
   "id": "8aebd47c",
   "metadata": {},
   "outputs": [
    {
     "ename": "TypeError",
     "evalue": "can only concatenate str (not \"int\") to str",
     "output_type": "error",
     "traceback": [
      "\u001b[1;31m---------------------------------------------------------------------------\u001b[0m",
      "\u001b[1;31mTypeError\u001b[0m                                 Traceback (most recent call last)",
      "Input \u001b[1;32mIn [36]\u001b[0m, in \u001b[0;36m<cell line: 1>\u001b[1;34m()\u001b[0m\n\u001b[1;32m----> 1\u001b[0m \u001b[43ms\u001b[49m\u001b[38;5;241;43m+\u001b[39;49m\u001b[38;5;241;43m1\u001b[39;49m\n",
      "\u001b[1;31mTypeError\u001b[0m: can only concatenate str (not \"int\") to str"
     ]
    }
   ],
   "source": [
    "#tring to concatinate different data variable\n",
    "s+1"
   ]
  },
  {
   "cell_type": "code",
   "execution_count": 39,
   "id": "b4d68646",
   "metadata": {},
   "outputs": [
    {
     "data": {
      "text/plain": [
       "'Viru1'"
      ]
     },
     "execution_count": 39,
     "metadata": {},
     "output_type": "execute_result"
    }
   ],
   "source": [
    "#For concatinate both variable should be in same data type\n",
    "s+ str(1)"
   ]
  },
  {
   "cell_type": "code",
   "execution_count": 40,
   "id": "6572ad45",
   "metadata": {},
   "outputs": [
    {
     "data": {
      "text/plain": [
       "4"
      ]
     },
     "execution_count": 40,
     "metadata": {},
     "output_type": "execute_result"
    }
   ],
   "source": [
    "#Tring to check the length of string\n",
    "len(s)"
   ]
  },
  {
   "cell_type": "code",
   "execution_count": 41,
   "id": "719837fe",
   "metadata": {},
   "outputs": [],
   "source": [
    "#mutliplicaton of string"
   ]
  },
  {
   "cell_type": "code",
   "execution_count": 42,
   "id": "23225e22",
   "metadata": {},
   "outputs": [
    {
     "data": {
      "text/plain": [
       "'ViruViru'"
      ]
     },
     "execution_count": 42,
     "metadata": {},
     "output_type": "execute_result"
    }
   ],
   "source": [
    "s*2"
   ]
  },
  {
   "cell_type": "code",
   "execution_count": 44,
   "id": "4fb94b75",
   "metadata": {},
   "outputs": [
    {
     "data": {
      "text/plain": [
       "'ViruViruViruViruViruViru'"
      ]
     },
     "execution_count": 44,
     "metadata": {},
     "output_type": "execute_result"
    }
   ],
   "source": [
    "s* 6"
   ]
  },
  {
   "cell_type": "code",
   "execution_count": 45,
   "id": "f576e02a",
   "metadata": {},
   "outputs": [],
   "source": [
    "#string functions"
   ]
  },
  {
   "cell_type": "code",
   "execution_count": 50,
   "id": "de54248e",
   "metadata": {},
   "outputs": [
    {
     "data": {
      "text/plain": [
       "1"
      ]
     },
     "execution_count": 50,
     "metadata": {},
     "output_type": "execute_result"
    }
   ],
   "source": [
    "#count particular character\n",
    "s.count('r')"
   ]
  },
  {
   "cell_type": "code",
   "execution_count": 51,
   "id": "1fde5d59",
   "metadata": {},
   "outputs": [
    {
     "data": {
      "text/plain": [
       "1"
      ]
     },
     "execution_count": 51,
     "metadata": {},
     "output_type": "execute_result"
    }
   ],
   "source": [
    "s.count('V')"
   ]
  },
  {
   "cell_type": "code",
   "execution_count": 52,
   "id": "03c64ff3",
   "metadata": {},
   "outputs": [
    {
     "data": {
      "text/plain": [
       "['Vir', '']"
      ]
     },
     "execution_count": 52,
     "metadata": {},
     "output_type": "execute_result"
    }
   ],
   "source": [
    "#split string from particlur charater ot delimeter\n",
    "s.split('u')"
   ]
  },
  {
   "cell_type": "code",
   "execution_count": 53,
   "id": "844d1687",
   "metadata": {},
   "outputs": [
    {
     "data": {
      "text/plain": [
       "list"
      ]
     },
     "execution_count": 53,
     "metadata": {},
     "output_type": "execute_result"
    }
   ],
   "source": [
    "type(s.split('u'))"
   ]
  },
  {
   "cell_type": "code",
   "execution_count": 54,
   "id": "54a11d17",
   "metadata": {},
   "outputs": [
    {
     "data": {
      "text/plain": [
       "['Vir', '']"
      ]
     },
     "execution_count": 54,
     "metadata": {},
     "output_type": "execute_result"
    }
   ],
   "source": [
    "s.split('u')"
   ]
  },
  {
   "cell_type": "code",
   "execution_count": 55,
   "id": "b684b188",
   "metadata": {},
   "outputs": [],
   "source": [
    "Sw= \"This is the first class of python and we have to learn as soon as possible to get job in particular domain. So let's try\n",
    "        \""
   ]
  },
  {
   "cell_type": "code",
   "execution_count": 63,
   "id": "fd64508a",
   "metadata": {},
   "outputs": [
    {
     "data": {
      "text/plain": [
       "\"This is the first class of python and we have to learn as soon as possible to get job in particular domain. So let's try\""
      ]
     },
     "execution_count": 63,
     "metadata": {},
     "output_type": "execute_result"
    }
   ],
   "source": [
    "\n",
    "Sw"
   ]
  },
  {
   "cell_type": "code",
   "execution_count": 57,
   "id": "6c40a553",
   "metadata": {},
   "outputs": [],
   "source": [
    "#For multi line string we have to use ''' "
   ]
  },
  {
   "cell_type": "code",
   "execution_count": 61,
   "id": "c5869166",
   "metadata": {},
   "outputs": [],
   "source": [
    "Sw1 = \"'This is the first class of python and we have to learn as soon as possible to get job in particular domain. So let's try\\n Thiis is the one\"''"
   ]
  },
  {
   "cell_type": "code",
   "execution_count": 62,
   "id": "651e1890",
   "metadata": {},
   "outputs": [
    {
     "data": {
      "text/plain": [
       "\"'This is the first class of python and we have to learn as soon as possible to get job in particular domain. So let's try\\n Thiis is the one\""
      ]
     },
     "execution_count": 62,
     "metadata": {},
     "output_type": "execute_result"
    }
   ],
   "source": [
    "Sw1"
   ]
  },
  {
   "cell_type": "code",
   "execution_count": 64,
   "id": "e9d6f5c1",
   "metadata": {},
   "outputs": [
    {
     "data": {
      "text/plain": [
       "['This',\n",
       " 'is',\n",
       " 'the',\n",
       " 'first',\n",
       " 'class',\n",
       " 'of',\n",
       " 'python',\n",
       " 'and',\n",
       " 'we',\n",
       " 'have',\n",
       " 'to',\n",
       " 'learn',\n",
       " 'as',\n",
       " 'soon',\n",
       " 'as',\n",
       " 'possible',\n",
       " 'to',\n",
       " 'get',\n",
       " 'job',\n",
       " 'in',\n",
       " 'particular',\n",
       " 'domain.',\n",
       " 'So',\n",
       " \"let's\",\n",
       " 'try']"
      ]
     },
     "execution_count": 64,
     "metadata": {},
     "output_type": "execute_result"
    }
   ],
   "source": [
    "Sw.split(' ')"
   ]
  },
  {
   "cell_type": "code",
   "execution_count": 65,
   "id": "a34ee977",
   "metadata": {},
   "outputs": [
    {
     "data": {
      "text/plain": [
       "list"
      ]
     },
     "execution_count": 65,
     "metadata": {},
     "output_type": "execute_result"
    }
   ],
   "source": [
    "#After split function output will be in list type\n",
    "type(Sw.split(' '))"
   ]
  },
  {
   "cell_type": "code",
   "execution_count": 66,
   "id": "6a1a963e",
   "metadata": {},
   "outputs": [],
   "source": [
    "#uppere case function"
   ]
  },
  {
   "cell_type": "code",
   "execution_count": 67,
   "id": "48ef80c6",
   "metadata": {},
   "outputs": [
    {
     "data": {
      "text/plain": [
       "\"THIS IS THE FIRST CLASS OF PYTHON AND WE HAVE TO LEARN AS SOON AS POSSIBLE TO GET JOB IN PARTICULAR DOMAIN. SO LET'S TRY\""
      ]
     },
     "execution_count": 67,
     "metadata": {},
     "output_type": "execute_result"
    }
   ],
   "source": [
    "Sw.upper()"
   ]
  },
  {
   "cell_type": "code",
   "execution_count": 68,
   "id": "4efe0662",
   "metadata": {},
   "outputs": [
    {
     "data": {
      "text/plain": [
       "\"this is the first class of python and we have to learn as soon as possible to get job in particular domain. so let's try\""
      ]
     },
     "execution_count": 68,
     "metadata": {},
     "output_type": "execute_result"
    }
   ],
   "source": [
    "Sw.lower()"
   ]
  },
  {
   "cell_type": "code",
   "execution_count": 71,
   "id": "aa43928a",
   "metadata": {},
   "outputs": [
    {
     "data": {
      "text/plain": [
       "\"THIS IS THE FIRST CLASS OF PYTHON AND WE HAVE TO LEARN AS SOON AS POSSIBLE TO GET JOB IN PARTICULAR DOMAIN. SO LET'S TRY\""
      ]
     },
     "execution_count": 71,
     "metadata": {},
     "output_type": "execute_result"
    }
   ],
   "source": [
    "Sw = Sw.upper()\n",
    "Sw"
   ]
  },
  {
   "cell_type": "code",
   "execution_count": 75,
   "id": "f1682a71",
   "metadata": {},
   "outputs": [
    {
     "data": {
      "text/plain": [
       "\"This Is The First Class Of Python And We Have To Learn As Soon As Possible To Get Job In Particular Domain. So Let'S Try\""
      ]
     },
     "execution_count": 75,
     "metadata": {},
     "output_type": "execute_result"
    }
   ],
   "source": [
    "Sw = Sw.title()\n",
    "Sw"
   ]
  },
  {
   "cell_type": "code",
   "execution_count": 76,
   "id": "ecd7faff",
   "metadata": {},
   "outputs": [],
   "source": [
    "S4 =  \"Virendra SInGh\""
   ]
  },
  {
   "cell_type": "code",
   "execution_count": 77,
   "id": "1fb13dc5",
   "metadata": {},
   "outputs": [
    {
     "data": {
      "text/plain": [
       "'vIRENDRA siNgH'"
      ]
     },
     "execution_count": 77,
     "metadata": {},
     "output_type": "execute_result"
    }
   ],
   "source": [
    "S4.swapcase()"
   ]
  },
  {
   "cell_type": "code",
   "execution_count": 78,
   "id": "61080c0b",
   "metadata": {},
   "outputs": [
    {
     "data": {
      "text/plain": [
       "<reversed at 0x1eec1e174f0>"
      ]
     },
     "execution_count": 78,
     "metadata": {},
     "output_type": "execute_result"
    }
   ],
   "source": [
    "reversed(S4)"
   ]
  },
  {
   "cell_type": "code",
   "execution_count": 80,
   "id": "45fd1b64",
   "metadata": {},
   "outputs": [
    {
     "data": {
      "text/plain": [
       "'hGnIS ardneriV'"
      ]
     },
     "execution_count": 80,
     "metadata": {},
     "output_type": "execute_result"
    }
   ],
   "source": [
    "\"\".join(reversed(S4))"
   ]
  },
  {
   "cell_type": "code",
   "execution_count": 82,
   "id": "91ee6f31",
   "metadata": {},
   "outputs": [
    {
     "data": {
      "text/plain": [
       "'Virendra SInGh'"
      ]
     },
     "execution_count": 82,
     "metadata": {},
     "output_type": "execute_result"
    }
   ],
   "source": [
    "#Remove space\n",
    "S4.strip()"
   ]
  },
  {
   "cell_type": "code",
   "execution_count": 83,
   "id": "106f5f3d",
   "metadata": {},
   "outputs": [
    {
     "data": {
      "text/plain": [
       "'V i r e n d r a'"
      ]
     },
     "execution_count": 83,
     "metadata": {},
     "output_type": "execute_result"
    }
   ],
   "source": [
    "\" \".join('Virendra')"
   ]
  },
  {
   "cell_type": "code",
   "execution_count": 84,
   "id": "8256ec8a",
   "metadata": {},
   "outputs": [
    {
     "data": {
      "text/plain": [
       "'VViVrVeVnVdVrVa'"
      ]
     },
     "execution_count": 84,
     "metadata": {},
     "output_type": "execute_result"
    }
   ],
   "source": [
    "\"V\".join('Virendra')"
   ]
  },
  {
   "cell_type": "code",
   "execution_count": 85,
   "id": "096d7fb7",
   "metadata": {},
   "outputs": [],
   "source": [
    "#Is funcitons always provide True and false "
   ]
  },
  {
   "cell_type": "code",
   "execution_count": 88,
   "id": "f7f3f866",
   "metadata": {},
   "outputs": [
    {
     "data": {
      "text/plain": [
       "False"
      ]
     },
     "execution_count": 88,
     "metadata": {},
     "output_type": "execute_result"
    }
   ],
   "source": [
    "S4.islower()"
   ]
  },
  {
   "cell_type": "code",
   "execution_count": 89,
   "id": "04e7cde6",
   "metadata": {},
   "outputs": [],
   "source": [
    "s = \"this is My First Python programming class and i am learNING python string and its function\""
   ]
  },
  {
   "cell_type": "code",
   "execution_count": 90,
   "id": "d25518c6",
   "metadata": {},
   "outputs": [
    {
     "data": {
      "text/plain": [
       "'this is My First Python programming class and i am learNING python string and its function'"
      ]
     },
     "execution_count": 90,
     "metadata": {},
     "output_type": "execute_result"
    }
   ],
   "source": [
    "s"
   ]
  },
  {
   "cell_type": "code",
   "execution_count": 91,
   "id": "faf77742",
   "metadata": {},
   "outputs": [
    {
     "data": {
      "text/plain": [
       "'h   r tnrrmglsnimeNGyosi dtfco'"
      ]
     },
     "execution_count": 91,
     "metadata": {},
     "output_type": "execute_result"
    }
   ],
   "source": [
    "s[1:300:3]"
   ]
  },
  {
   "cell_type": "code",
   "execution_count": 92,
   "id": "902a3185",
   "metadata": {},
   "outputs": [
    {
     "data": {
      "text/plain": [
       "'noitcnuf sti dna gnirts nohtyp GNINrael ma i dna ssalc gnimmargorp nohtyP tsriF yM si siht'"
      ]
     },
     "execution_count": 92,
     "metadata": {},
     "output_type": "execute_result"
    }
   ],
   "source": [
    "s[::-1]"
   ]
  },
  {
   "cell_type": "code",
   "execution_count": 93,
   "id": "e160f6a2",
   "metadata": {},
   "outputs": [
    {
     "data": {
      "text/plain": [
       "'THIS IS MY FIRST PYTHON PROGRAMMING CLASS AND I AM LEARNING PYTHON STRING AND ITS FUNCTION'"
      ]
     },
     "execution_count": 93,
     "metadata": {},
     "output_type": "execute_result"
    }
   ],
   "source": [
    "s.upper()"
   ]
  },
  {
   "cell_type": "code",
   "execution_count": 96,
   "id": "9f4db472",
   "metadata": {},
   "outputs": [
    {
     "data": {
      "text/plain": [
       "'this is my first python programming class and i am learning python string and its function'"
      ]
     },
     "execution_count": 96,
     "metadata": {},
     "output_type": "execute_result"
    }
   ],
   "source": [
    "s.lower()"
   ]
  },
  {
   "cell_type": "code",
   "execution_count": 97,
   "id": "889412dc",
   "metadata": {},
   "outputs": [
    {
     "data": {
      "text/plain": [
       "'This is my first python programming class and i am learning python string and its function'"
      ]
     },
     "execution_count": 97,
     "metadata": {},
     "output_type": "execute_result"
    }
   ],
   "source": [
    "s.capitalize()"
   ]
  },
  {
   "cell_type": "code",
   "execution_count": 95,
   "id": "49666a1a",
   "metadata": {},
   "outputs": [
    {
     "data": {
      "text/plain": [
       "list"
      ]
     },
     "execution_count": 95,
     "metadata": {},
     "output_type": "execute_result"
    }
   ],
   "source": [
    "type(s.split(\" \"))"
   ]
  },
  {
   "cell_type": "code",
   "execution_count": 101,
   "id": "8add8436",
   "metadata": {},
   "outputs": [
    {
     "data": {
      "text/plain": [
       "False"
      ]
     },
     "execution_count": 101,
     "metadata": {},
     "output_type": "execute_result"
    }
   ],
   "source": [
    "s.isalnum()"
   ]
  },
  {
   "cell_type": "code",
   "execution_count": 100,
   "id": "e771f84d",
   "metadata": {},
   "outputs": [
    {
     "data": {
      "text/plain": [
       "False"
      ]
     },
     "execution_count": 100,
     "metadata": {},
     "output_type": "execute_result"
    }
   ],
   "source": [
    "s.isalpha()"
   ]
  },
  {
   "cell_type": "code",
   "execution_count": null,
   "id": "81073a3e",
   "metadata": {},
   "outputs": [],
   "source": [
    "s.isalpha()"
   ]
  },
  {
   "cell_type": "markdown",
   "id": "296403f4",
   "metadata": {},
   "source": [
    "isalnum attrbure provide information about whether string contain numbers or not however isalpha provide the infomration about string contain alphabetic character or not"
   ]
  },
  {
   "cell_type": "code",
   "execution_count": 115,
   "id": "46b2d7ef",
   "metadata": {},
   "outputs": [],
   "source": [
    "ex = \"abcz\""
   ]
  },
  {
   "cell_type": "code",
   "execution_count": 116,
   "id": "1bd4bf56",
   "metadata": {},
   "outputs": [
    {
     "data": {
      "text/plain": [
       "True"
      ]
     },
     "execution_count": 116,
     "metadata": {},
     "output_type": "execute_result"
    }
   ],
   "source": [
    "ex.isalpha()"
   ]
  },
  {
   "cell_type": "code",
   "execution_count": 110,
   "id": "ca5eb1cf",
   "metadata": {},
   "outputs": [],
   "source": [
    "converted = ex.upper()"
   ]
  },
  {
   "cell_type": "code",
   "execution_count": 112,
   "id": "b6ff47f0",
   "metadata": {},
   "outputs": [
    {
     "data": {
      "text/plain": [
       "False"
      ]
     },
     "execution_count": 112,
     "metadata": {},
     "output_type": "execute_result"
    }
   ],
   "source": [
    "converted.isalpha()"
   ]
  },
  {
   "cell_type": "code",
   "execution_count": 121,
   "id": "6e079d9c",
   "metadata": {},
   "outputs": [],
   "source": [
    "ssss =\" This\\tis\\tthe\\tcase\\tsensitive\\tlanguage\""
   ]
  },
  {
   "cell_type": "code",
   "execution_count": 122,
   "id": "f97cb70a",
   "metadata": {},
   "outputs": [
    {
     "data": {
      "text/plain": [
       "' This\\tis\\tthe\\tcase\\tsensitive\\tlanguage'"
      ]
     },
     "execution_count": 122,
     "metadata": {},
     "output_type": "execute_result"
    }
   ],
   "source": [
    "ssss"
   ]
  },
  {
   "cell_type": "code",
   "execution_count": 123,
   "id": "bbded243",
   "metadata": {},
   "outputs": [
    {
     "data": {
      "text/plain": [
       "' This   is      the     case    sensitive       language'"
      ]
     },
     "execution_count": 123,
     "metadata": {},
     "output_type": "execute_result"
    }
   ],
   "source": [
    "ssss.expandtabs()"
   ]
  },
  {
   "cell_type": "code",
   "execution_count": 127,
   "id": "dfd63b9f",
   "metadata": {},
   "outputs": [],
   "source": [
    "string1 = \"   Virenra Singh   \""
   ]
  },
  {
   "cell_type": "code",
   "execution_count": 135,
   "id": "c7b5ab45",
   "metadata": {},
   "outputs": [
    {
     "data": {
      "text/plain": [
       "'Virenra Singh'"
      ]
     },
     "execution_count": 135,
     "metadata": {},
     "output_type": "execute_result"
    }
   ],
   "source": [
    "string1.strip()"
   ]
  },
  {
   "cell_type": "code",
   "execution_count": 137,
   "id": "da3f72bd",
   "metadata": {},
   "outputs": [
    {
     "data": {
      "text/plain": [
       "'Virenra Singh   '"
      ]
     },
     "execution_count": 137,
     "metadata": {},
     "output_type": "execute_result"
    }
   ],
   "source": [
    "string1.lstrip()"
   ]
  },
  {
   "cell_type": "code",
   "execution_count": 138,
   "id": "cb2339c5",
   "metadata": {},
   "outputs": [
    {
     "data": {
      "text/plain": [
       "'   Virenra Singh'"
      ]
     },
     "execution_count": 138,
     "metadata": {},
     "output_type": "execute_result"
    }
   ],
   "source": [
    "string1.rstrip()"
   ]
  },
  {
   "cell_type": "code",
   "execution_count": 139,
   "id": "6faa426b",
   "metadata": {},
   "outputs": [
    {
     "data": {
      "text/plain": [
       "'   Birenra Singh   '"
      ]
     },
     "execution_count": 139,
     "metadata": {},
     "output_type": "execute_result"
    }
   ],
   "source": [
    "string1.replace('V','B')"
   ]
  },
  {
   "cell_type": "code",
   "execution_count": 141,
   "id": "08a6fd98",
   "metadata": {},
   "outputs": [
    {
     "data": {
      "text/plain": [
       "'   Virenra Singh    '"
      ]
     },
     "execution_count": 141,
     "metadata": {},
     "output_type": "execute_result"
    }
   ],
   "source": [
    "string1.center(20, \" \")"
   ]
  },
  {
   "cell_type": "markdown",
   "id": "3635c524",
   "metadata": {},
   "source": [
    "Center fucntion basically used to manupulated string structure as per suitable outcome. This is basically used to represent string\n",
    "in a particular pattern"
   ]
  },
  {
   "cell_type": "markdown",
   "id": "6bdd8930",
   "metadata": {},
   "source": [
    "Compiler: Convert any programmer written code into computer language code in one go\n",
    "Interpretetor: Convert any programmer written code into computer language code line by line"
   ]
  },
  {
   "cell_type": "markdown",
   "id": "45c9e8f9",
   "metadata": {},
   "source": [
    "Python is an interpretetor language because source code in python is converted into bytecode which executed by python virtual machine "
   ]
  },
  {
   "cell_type": "markdown",
   "id": "621ea5c9",
   "metadata": {},
   "source": [
    "Now days pyton is hot fav language. We can use python in multiple aspect of this techy world\n",
    "\n",
    "1 Web devlopment\n",
    "2 Gaming\n",
    "3 Data Science\n",
    "4 AI\n"
   ]
  },
  {
   "cell_type": "code",
   "execution_count": null,
   "id": "e3475eeb",
   "metadata": {},
   "outputs": [],
   "source": []
  }
 ],
 "metadata": {
  "kernelspec": {
   "display_name": "Python 3 (ipykernel)",
   "language": "python",
   "name": "python3"
  },
  "language_info": {
   "codemirror_mode": {
    "name": "ipython",
    "version": 3
   },
   "file_extension": ".py",
   "mimetype": "text/x-python",
   "name": "python",
   "nbconvert_exporter": "python",
   "pygments_lexer": "ipython3",
   "version": "3.9.12"
  }
 },
 "nbformat": 4,
 "nbformat_minor": 5
}
